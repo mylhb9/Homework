{
  "nbformat": 4,
  "nbformat_minor": 0,
  "metadata": {
    "colab": {
      "name": "Untitled2.ipynb",
      "provenance": [],
      "include_colab_link": true
    },
    "kernelspec": {
      "name": "python3",
      "display_name": "Python 3"
    }
  },
  "cells": [
    {
      "cell_type": "markdown",
      "metadata": {
        "id": "view-in-github",
        "colab_type": "text"
      },
      "source": [
        "<a href=\"https://colab.research.google.com/github/mylhb9/Homework/blob/master/%EC%97%B4%EC%9C%A0%EC%B2%B4%EA%B3%B5%ED%95%99%EC%8B%A4%ED%97%98-2017026508-HW02.ipynb\" target=\"_parent\"><img src=\"https://colab.research.google.com/assets/colab-badge.svg\" alt=\"Open In Colab\"/></a>"
      ]
    },
    {
      "cell_type": "code",
      "metadata": {
        "id": "9mf1DAniMxlF",
        "colab_type": "code",
        "colab": {
          "base_uri": "https://localhost:8080/",
          "height": 197
        },
        "outputId": "728cb79d-4021-4755-931e-5f9e3f081f71"
      },
      "source": [
        "\n",
        "def multiplication():\n",
        "  a=int(input())\n",
        "  for i in range (1,10):\n",
        "    b=a*i\n",
        "    print(b)\n",
        "multiplication()"
      ],
      "execution_count": 20,
      "outputs": [
        {
          "output_type": "stream",
          "text": [
            "40\n",
            "40\n",
            "80\n",
            "120\n",
            "160\n",
            "200\n",
            "240\n",
            "280\n",
            "320\n",
            "360\n"
          ],
          "name": "stdout"
        }
      ]
    }
  ]
}