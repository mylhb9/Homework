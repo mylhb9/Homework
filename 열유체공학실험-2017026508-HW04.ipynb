{
  "nbformat": 4,
  "nbformat_minor": 0,
  "metadata": {
    "colab": {
      "name": "Untitled6.ipynb",
      "provenance": [],
      "include_colab_link": true
    },
    "kernelspec": {
      "name": "python3",
      "display_name": "Python 3"
    },
    "accelerator": "GPU"
  },
  "cells": [
    {
      "cell_type": "markdown",
      "metadata": {
        "id": "view-in-github",
        "colab_type": "text"
      },
      "source": [
        "<a href=\"https://colab.research.google.com/github/mylhb9/Homework/blob/master/%EC%97%B4%EC%9C%A0%EC%B2%B4%EA%B3%B5%ED%95%99%EC%8B%A4%ED%97%98-2017026508-HW04.ipynb\" target=\"_parent\"><img src=\"https://colab.research.google.com/assets/colab-badge.svg\" alt=\"Open In Colab\"/></a>"
      ]
    },
    {
      "cell_type": "code",
      "metadata": {
        "id": "TvwWyb-Iha1V",
        "colab_type": "code",
        "outputId": "e066ea49-09fd-45ed-b33d-a3c9a666aca1",
        "colab": {
          "base_uri": "https://localhost:8080/",
          "height": 197
        }
      },
      "source": [
        "#기본 문법을 사용한 방법\n",
        "def multiplication():\n",
        "  a=int(input())\n",
        "  for i in range (1,10):\n",
        "    b=a*i\n",
        "    print(b)\n",
        "multiplication()"
      ],
      "execution_count": 0,
      "outputs": [
        {
          "output_type": "stream",
          "text": [
            "3\n",
            "3\n",
            "6\n",
            "9\n",
            "12\n",
            "15\n",
            "18\n",
            "21\n",
            "24\n",
            "27\n"
          ],
          "name": "stdout"
        }
      ]
    },
    {
      "cell_type": "code",
      "metadata": {
        "id": "VvNC9LDzhlds",
        "colab_type": "code",
        "outputId": "051706f6-55f1-4795-bdfe-7b429f1b76ad",
        "colab": {
          "base_uri": "https://localhost:8080/",
          "height": 71
        }
      },
      "source": [
        "#numpy를 사용한 방법\n",
        "import numpy as np\n",
        "print(\"구구단을 알고 싶은 숫자를 입력하시오.\")\n",
        "a= int(input())\n",
        "x=np.arange(1,10)*a\n",
        "print(x)"
      ],
      "execution_count": 0,
      "outputs": [
        {
          "output_type": "stream",
          "text": [
            "구구단을 알고 싶은 숫자를 입력하시오.\n",
            "3\n",
            "[ 3  6  9 12 15 18 21 24 27]\n"
          ],
          "name": "stdout"
        }
      ]
    },
    {
      "cell_type": "code",
      "metadata": {
        "id": "3t1DhT30hp57",
        "colab_type": "code",
        "outputId": "17e69ebd-34c1-48e3-d455-a2260e551780",
        "colab": {
          "base_uri": "https://localhost:8080/",
          "height": 197
        }
      },
      "source": [
        "#numba.jit를 사용한 방법\n",
        "import numba\n",
        "@numba.jit(\"void(f4[:])\")\n",
        "def mult(a):\n",
        "  a=int(input())\n",
        "  for i in range (1,10):\n",
        "    b=a*i\n",
        "    print(b)\n",
        "mult(a)"
      ],
      "execution_count": 0,
      "outputs": [
        {
          "output_type": "stream",
          "text": [
            "3\n",
            "3\n",
            "6\n",
            "9\n",
            "12\n",
            "15\n",
            "18\n",
            "21\n",
            "24\n",
            "27\n"
          ],
          "name": "stdout"
        }
      ]
    },
    {
      "cell_type": "code",
      "metadata": {
        "id": "AoAOJweomprO",
        "colab_type": "code",
        "outputId": "1e05975e-aec3-4a83-95b0-d0736bfba0e8",
        "colab": {
          "base_uri": "https://localhost:8080/",
          "height": 53
        }
      },
      "source": [
        "#cuda를 사용한 방법\n",
        "import os\n",
        "os.environ['NUMBAPRO_LIBDEVICE'] = \"/usr/local/cuda-10.1/nvvm/libdevice\"\n",
        "os.environ['NUMBAPRO_NVVM'] = \"/usr/local/cuda-10.1/nvvm/lib64/libnvvm.so\"\n",
        "\n",
        "import numpy as np\n",
        "from numba import vectorize\n",
        "\n",
        "a= int(input())\n",
        "b= np.arange(1,10)\n",
        "\n",
        "@vectorize(['int64(int64, int64)'], target='cuda')\n",
        "def mul_ufunc(x, y):\n",
        "    return x * y\n",
        "\n",
        "print(mul_ufunc(a, b))"
      ],
      "execution_count": 1,
      "outputs": [
        {
          "output_type": "stream",
          "text": [
            "3\n",
            "[ 3  6  9 12 15 18 21 24 27]\n"
          ],
          "name": "stdout"
        }
      ]
    }
  ]
}