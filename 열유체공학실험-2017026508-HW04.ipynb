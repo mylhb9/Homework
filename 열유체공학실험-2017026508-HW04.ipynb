{
  "nbformat": 4,
  "nbformat_minor": 0,
  "metadata": {
    "colab": {
      "name": "Untitled6.ipynb",
      "provenance": [],
      "include_colab_link": true
    },
    "kernelspec": {
      "name": "python3",
      "display_name": "Python 3"
    },
    "accelerator": "GPU"
  },
  "cells": [
    {
      "cell_type": "markdown",
      "metadata": {
        "id": "view-in-github",
        "colab_type": "text"
      },
      "source": [
        "<a href=\"https://colab.research.google.com/github/mylhb9/Homework/blob/master/%EC%97%B4%EC%9C%A0%EC%B2%B4%EA%B3%B5%ED%95%99%EC%8B%A4%ED%97%98-2017026508-HW04.ipynb\" target=\"_parent\"><img src=\"https://colab.research.google.com/assets/colab-badge.svg\" alt=\"Open In Colab\"/></a>"
      ]
    },
    {
      "cell_type": "code",
      "metadata": {
        "id": "TvwWyb-Iha1V",
        "colab_type": "code",
        "outputId": "9b0f3032-69ea-4852-9170-6a496dbe8735",
        "colab": {
          "base_uri": "https://localhost:8080/",
          "height": 215
        }
      },
      "source": [
        "#기본 문법을 사용한 방법\n",
        "def multiplication():\n",
        "  a=int(input())\n",
        "  for i in range (1,10):\n",
        "    b=a*i\n",
        "    print(b)\n",
        "z=multiplication()\n",
        "%timeit z"
      ],
      "execution_count": 30,
      "outputs": [
        {
          "output_type": "stream",
          "text": [
            "5\n",
            "5\n",
            "10\n",
            "15\n",
            "20\n",
            "25\n",
            "30\n",
            "35\n",
            "40\n",
            "45\n",
            "100000000 loops, best of 3: 16.6 ns per loop\n"
          ],
          "name": "stdout"
        }
      ]
    },
    {
      "cell_type": "code",
      "metadata": {
        "id": "VvNC9LDzhlds",
        "colab_type": "code",
        "outputId": "67561109-dca0-4c8c-fe86-f1299a5ec6a1",
        "colab": {
          "base_uri": "https://localhost:8080/",
          "height": 89
        }
      },
      "source": [
        "#numpy를 사용한 방법\n",
        "import numpy as np\n",
        "print(\"구구단을 알고 싶은 숫자를 입력하시오.\")\n",
        "a= int(input())\n",
        "x=np.arange(1,10)*a\n",
        "print(x)\n",
        "%timeit x"
      ],
      "execution_count": 31,
      "outputs": [
        {
          "output_type": "stream",
          "text": [
            "구구단을 알고 싶은 숫자를 입력하시오.\n",
            "5\n",
            "[ 5 10 15 20 25 30 35 40 45]\n",
            "100000000 loops, best of 3: 19.6 ns per loop\n"
          ],
          "name": "stdout"
        }
      ]
    },
    {
      "cell_type": "code",
      "metadata": {
        "id": "3t1DhT30hp57",
        "colab_type": "code",
        "outputId": "32d54103-edea-4559-f61e-b61a8e8738c6",
        "colab": {
          "base_uri": "https://localhost:8080/",
          "height": 71
        }
      },
      "source": [
        "#numba.jit를 사용한 방법\n",
        "import numba\n",
        "@numba.jit(\"void(f4[:])\")\n",
        "def mult(x):\n",
        "  return np.arange(1,10)*x\n",
        "a=int(input())\n",
        "k=mult(a)\n",
        "print(k)\n",
        "%timeit k"
      ],
      "execution_count": 32,
      "outputs": [
        {
          "output_type": "stream",
          "text": [
            "5\n",
            "[ 5 10 15 20 25 30 35 40 45]\n",
            "100000000 loops, best of 3: 15.4 ns per loop\n"
          ],
          "name": "stdout"
        }
      ]
    },
    {
      "cell_type": "code",
      "metadata": {
        "id": "AoAOJweomprO",
        "colab_type": "code",
        "outputId": "6d47899e-b8c4-4c39-8829-3a2d1ccafd1b",
        "colab": {
          "base_uri": "https://localhost:8080/",
          "height": 71
        }
      },
      "source": [
        "#cuda를 사용한 방법\n",
        "import os\n",
        "os.environ['NUMBAPRO_LIBDEVICE'] = \"/usr/local/cuda-10.1/nvvm/libdevice\"\n",
        "os.environ['NUMBAPRO_NVVM'] = \"/usr/local/cuda-10.1/nvvm/lib64/libnvvm.so\"\n",
        "\n",
        "import numpy as np\n",
        "from numba import vectorize\n",
        "\n",
        "a= int(input())\n",
        "b= np.arange(1,10)\n",
        "\n",
        "@vectorize(['int64(int64, int64)'], target='cuda')\n",
        "def mul_ufunc(x, y):\n",
        "    return x * y\n",
        "\n",
        "print(mul_ufunc(a, b))\n",
        "%timeit mul_ufunc(a,b)"
      ],
      "execution_count": 33,
      "outputs": [
        {
          "output_type": "stream",
          "text": [
            "5\n",
            "[ 5 10 15 20 25 30 35 40 45]\n",
            "1000 loops, best of 3: 814 µs per loop\n"
          ],
          "name": "stdout"
        }
      ]
    }
  ]
}