{
  "nbformat": 4,
  "nbformat_minor": 0,
  "metadata": {
    "colab": {
      "name": "Untitled3.ipynb",
      "provenance": [],
      "include_colab_link": true
    },
    "kernelspec": {
      "name": "python3",
      "display_name": "Python 3"
    }
  },
  "cells": [
    {
      "cell_type": "markdown",
      "metadata": {
        "id": "view-in-github",
        "colab_type": "text"
      },
      "source": [
        "<a href=\"https://colab.research.google.com/github/mylhb9/Homework/blob/master/%EC%97%B4%EC%9C%A0%EC%B2%B4%EA%B3%B5%ED%95%99%EC%8B%A4%ED%97%98-2017026508-HW03.ipynb\" target=\"_parent\"><img src=\"https://colab.research.google.com/assets/colab-badge.svg\" alt=\"Open In Colab\"/></a>"
      ]
    },
    {
      "cell_type": "code",
      "metadata": {
        "id": "QmjJvEaqSZc9",
        "colab_type": "code",
        "colab": {
          "base_uri": "https://localhost:8080/",
          "height": 71
        },
        "outputId": "7f197c87-0fe7-4ef5-f096-cb7b18cd8c82"
      },
      "source": [
        "import numpy as np\n",
        "print(\"구구단을 알고 싶은 숫자를 입력하시오.\")\n",
        "a= int(input())\n",
        "x=np.arange(1,10)*a\n",
        "print(x)\n",
        "\n",
        "\n",
        "\n"
      ],
      "execution_count": 16,
      "outputs": [
        {
          "output_type": "stream",
          "text": [
            "구구단을 알고 싶은 숫자를 입력하시오.\n",
            "5\n",
            "[ 5 10 15 20 25 30 35 40 45]\n"
          ],
          "name": "stdout"
        }
      ]
    }
  ]
}